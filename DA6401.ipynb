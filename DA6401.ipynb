{
  "nbformat": 4,
  "nbformat_minor": 0,
  "metadata": {
    "colab": {
      "provenance": []
    },
    "kernelspec": {
      "name": "python3",
      "display_name": "Python 3"
    },
    "language_info": {
      "name": "python"
    }
  },
  "cells": [
    {
      "cell_type": "code",
      "execution_count": 1,
      "metadata": {
        "id": "tJz6juFmwUzt"
      },
      "outputs": [],
      "source": [
        "# wandbai api key: e6b43dd118f9a14e83fe12c597ad8d06bdfed432"
      ]
    },
    {
      "cell_type": "code",
      "source": [
        "!pip install wandb --upgrade"
      ],
      "metadata": {
        "colab": {
          "base_uri": "https://localhost:8080/"
        },
        "id": "Auw83qdYwknq",
        "outputId": "03ecabe7-803e-4661-fe63-38bd3c1c7f99"
      },
      "execution_count": 10,
      "outputs": [
        {
          "output_type": "stream",
          "name": "stdout",
          "text": [
            "Requirement already satisfied: wandb in /usr/local/lib/python3.11/dist-packages (0.19.7)\n",
            "Requirement already satisfied: click!=8.0.0,>=7.1 in /usr/local/lib/python3.11/dist-packages (from wandb) (8.1.8)\n",
            "Requirement already satisfied: docker-pycreds>=0.4.0 in /usr/local/lib/python3.11/dist-packages (from wandb) (0.4.0)\n",
            "Requirement already satisfied: gitpython!=3.1.29,>=1.0.0 in /usr/local/lib/python3.11/dist-packages (from wandb) (3.1.44)\n",
            "Requirement already satisfied: platformdirs in /usr/local/lib/python3.11/dist-packages (from wandb) (4.3.6)\n",
            "Requirement already satisfied: protobuf!=4.21.0,!=5.28.0,<6,>=3.19.0 in /usr/local/lib/python3.11/dist-packages (from wandb) (4.25.6)\n",
            "Requirement already satisfied: psutil>=5.0.0 in /usr/local/lib/python3.11/dist-packages (from wandb) (5.9.5)\n",
            "Requirement already satisfied: pydantic<3,>=2.6 in /usr/local/lib/python3.11/dist-packages (from wandb) (2.10.6)\n",
            "Requirement already satisfied: pyyaml in /usr/local/lib/python3.11/dist-packages (from wandb) (6.0.2)\n",
            "Requirement already satisfied: requests<3,>=2.0.0 in /usr/local/lib/python3.11/dist-packages (from wandb) (2.32.3)\n",
            "Requirement already satisfied: sentry-sdk>=2.0.0 in /usr/local/lib/python3.11/dist-packages (from wandb) (2.21.0)\n",
            "Requirement already satisfied: setproctitle in /usr/local/lib/python3.11/dist-packages (from wandb) (1.3.4)\n",
            "Requirement already satisfied: setuptools in /usr/local/lib/python3.11/dist-packages (from wandb) (75.1.0)\n",
            "Requirement already satisfied: typing-extensions<5,>=4.4 in /usr/local/lib/python3.11/dist-packages (from wandb) (4.12.2)\n",
            "Requirement already satisfied: six>=1.4.0 in /usr/local/lib/python3.11/dist-packages (from docker-pycreds>=0.4.0->wandb) (1.17.0)\n",
            "Requirement already satisfied: gitdb<5,>=4.0.1 in /usr/local/lib/python3.11/dist-packages (from gitpython!=3.1.29,>=1.0.0->wandb) (4.0.12)\n",
            "Requirement already satisfied: annotated-types>=0.6.0 in /usr/local/lib/python3.11/dist-packages (from pydantic<3,>=2.6->wandb) (0.7.0)\n",
            "Requirement already satisfied: pydantic-core==2.27.2 in /usr/local/lib/python3.11/dist-packages (from pydantic<3,>=2.6->wandb) (2.27.2)\n",
            "Requirement already satisfied: charset-normalizer<4,>=2 in /usr/local/lib/python3.11/dist-packages (from requests<3,>=2.0.0->wandb) (3.4.1)\n",
            "Requirement already satisfied: idna<4,>=2.5 in /usr/local/lib/python3.11/dist-packages (from requests<3,>=2.0.0->wandb) (3.10)\n",
            "Requirement already satisfied: urllib3<3,>=1.21.1 in /usr/local/lib/python3.11/dist-packages (from requests<3,>=2.0.0->wandb) (2.3.0)\n",
            "Requirement already satisfied: certifi>=2017.4.17 in /usr/local/lib/python3.11/dist-packages (from requests<3,>=2.0.0->wandb) (2025.1.31)\n",
            "Requirement already satisfied: smmap<6,>=3.0.1 in /usr/local/lib/python3.11/dist-packages (from gitdb<5,>=4.0.1->gitpython!=3.1.29,>=1.0.0->wandb) (5.0.2)\n"
          ]
        }
      ]
    },
    {
      "cell_type": "code",
      "source": [
        "import wandb\n",
        "import numpy as np\n",
        "import matplotlib.pyplot as plt"
      ],
      "metadata": {
        "id": "pcOL49GRwvzu"
      },
      "execution_count": 4,
      "outputs": []
    },
    {
      "cell_type": "code",
      "source": [
        "wandb.login()"
      ],
      "metadata": {
        "colab": {
          "base_uri": "https://localhost:8080/",
          "height": 159
        },
        "id": "Fjy6-wdcwtmL",
        "outputId": "d39fea8a-c012-414a-9be3-c5c259809e27"
      },
      "execution_count": 5,
      "outputs": [
        {
          "output_type": "stream",
          "name": "stderr",
          "text": [
            "\u001b[34m\u001b[1mwandb\u001b[0m: Using wandb-core as the SDK backend.  Please refer to https://wandb.me/wandb-core for more information.\n"
          ]
        },
        {
          "output_type": "display_data",
          "data": {
            "text/plain": [
              "<IPython.core.display.Javascript object>"
            ],
            "application/javascript": [
              "\n",
              "        window._wandbApiKey = new Promise((resolve, reject) => {\n",
              "            function loadScript(url) {\n",
              "            return new Promise(function(resolve, reject) {\n",
              "                let newScript = document.createElement(\"script\");\n",
              "                newScript.onerror = reject;\n",
              "                newScript.onload = resolve;\n",
              "                document.body.appendChild(newScript);\n",
              "                newScript.src = url;\n",
              "            });\n",
              "            }\n",
              "            loadScript(\"https://cdn.jsdelivr.net/npm/postmate/build/postmate.min.js\").then(() => {\n",
              "            const iframe = document.createElement('iframe')\n",
              "            iframe.style.cssText = \"width:0;height:0;border:none\"\n",
              "            document.body.appendChild(iframe)\n",
              "            const handshake = new Postmate({\n",
              "                container: iframe,\n",
              "                url: 'https://wandb.ai/authorize'\n",
              "            });\n",
              "            const timeout = setTimeout(() => reject(\"Couldn't auto authenticate\"), 5000)\n",
              "            handshake.then(function(child) {\n",
              "                child.on('authorize', data => {\n",
              "                    clearTimeout(timeout)\n",
              "                    resolve(data)\n",
              "                });\n",
              "            });\n",
              "            })\n",
              "        });\n",
              "    "
            ]
          },
          "metadata": {}
        },
        {
          "output_type": "stream",
          "name": "stderr",
          "text": [
            "\u001b[34m\u001b[1mwandb\u001b[0m: \u001b[33mWARNING\u001b[0m If you're specifying your api key in code, ensure this code is not shared publicly.\n",
            "\u001b[34m\u001b[1mwandb\u001b[0m: \u001b[33mWARNING\u001b[0m Consider setting the WANDB_API_KEY environment variable, or running `wandb login` from the command line.\n",
            "\u001b[34m\u001b[1mwandb\u001b[0m: No netrc file found, creating one.\n",
            "\u001b[34m\u001b[1mwandb\u001b[0m: Appending key for api.wandb.ai to your netrc file: /root/.netrc\n",
            "\u001b[34m\u001b[1mwandb\u001b[0m: Currently logged in as: \u001b[33mda24s016\u001b[0m (\u001b[33mda24s016-indian-institute-of-technology-madras\u001b[0m) to \u001b[32mhttps://api.wandb.ai\u001b[0m. Use \u001b[1m`wandb login --relogin`\u001b[0m to force relogin\n"
          ]
        },
        {
          "output_type": "execute_result",
          "data": {
            "text/plain": [
              "True"
            ]
          },
          "metadata": {},
          "execution_count": 5
        }
      ]
    },
    {
      "cell_type": "code",
      "source": [
        "axes.shape"
      ],
      "metadata": {
        "colab": {
          "base_uri": "https://localhost:8080/"
        },
        "id": "F82eBIPfxgEP",
        "outputId": "0aedddc7-fe87-45db-97fb-d396ffde63f0"
      },
      "execution_count": 7,
      "outputs": [
        {
          "output_type": "execute_result",
          "data": {
            "text/plain": [
              "(10,)"
            ]
          },
          "metadata": {},
          "execution_count": 7
        }
      ]
    },
    {
      "cell_type": "code",
      "source": [
        "import numpy as np\n",
        "import matplotlib.pyplot as plt\n",
        "from keras.datasets import fashion_mnist\n",
        "\n",
        "# Load the Fashion-MNIST dataset\n",
        "(train_images, train_labels), (test_images, test_labels) = fashion_mnist.load_data()\n",
        "\n",
        "# class names\n",
        "class_names = ['T-shirt/top', 'Trouser', 'Pullover', 'Dress', 'Coat',\n",
        "               'Sandal', 'Shirt', 'Sneaker', 'Bag', 'Ankle boot']\n",
        "\n",
        "# Create a figure and axes for the plot\n",
        "fig, axes = plt.subplots(2, 5, figsize=(10, 5))\n",
        "\n",
        "# Iterate through each class\n",
        "for i in range(10):\n",
        "  # Find the index of the first image of the current class\n",
        "  index = np.where(train_labels == i)[0][0]\n",
        "  # Plot the image on the corresponding subplot\n",
        "  row = i // 5\n",
        "  col = i % 5\n",
        "  axes[row, col].imshow(train_images[index], cmap='gray')\n",
        "  axes[row, col].set_title(class_names[i])\n",
        "  axes[row, col].axis('off')\n",
        "\n",
        "# Adjust the spacing between subplots\n",
        "plt.tight_layout()\n",
        "\n",
        "# Show the plot\n",
        "plt.show()\n"
      ],
      "metadata": {
        "colab": {
          "base_uri": "https://localhost:8080/",
          "height": 473
        },
        "id": "3WZBwwTgxYJ5",
        "outputId": "0187b78c-d728-45a5-86da-2253b0addfe9"
      },
      "execution_count": 8,
      "outputs": [
        {
          "output_type": "display_data",
          "data": {
            "text/plain": [
              "<Figure size 1000x500 with 10 Axes>"
            ],
            "image/png": "[encoded data removed]"
          },
          "metadata": {}
        }
      ]
    },
    {
      "cell_type": "code",
      "source": [
        "# import wandb\n",
        "# import random\n",
        "\n",
        "# # start a new wandb run to track this script\n",
        "# wandb.init(\n",
        "#     # set the wandb project where this run will be logged\n",
        "#     project=\"my-awesome-project\",\n",
        "\n",
        "#     # track hyperparameters and run metadata\n",
        "#     config={\n",
        "#     \"learning_rate\": 0.02,\n",
        "#     \"architecture\": \"CNN\",\n",
        "#     \"dataset\": \"CIFAR-100\",\n",
        "#     \"epochs\": 10,\n",
        "#     }\n",
        "# )\n",
        "\n",
        "# # simulate training\n",
        "# epochs = 10\n",
        "# offset = random.random() / 5\n",
        "# for epoch in range(2, epochs):\n",
        "#     acc = 1 - 2 ** -epoch - random.random() / epoch - offset\n",
        "#     loss = 2 ** -epoch + random.random() / epoch + offset\n",
        "\n",
        "#     # log metrics to wandb\n",
        "#     wandb.log({\"acc\": acc, \"loss\": loss})\n",
        "\n",
        "# # [optional] finish the wandb run, necessary in notebooks\n",
        "# wandb.finish()"
      ],
      "metadata": {
        "colab": {
          "base_uri": "https://localhost:8080/",
          "height": 449
        },
        "id": "_ORE91Myxn2A",
        "outputId": "d2fc584a-c32b-4024-8984-0c27af69baec"
      },
      "execution_count": 9,
      "outputs": [
        {
          "output_type": "display_data",
          "data": {
            "text/plain": [
              "<IPython.core.display.HTML object>"
            ],
            "text/html": [
              "Tracking run with wandb version 0.19.7"
            ]
          },
          "metadata": {}
        },
        {
          "output_type": "display_data",
          "data": {
            "text/plain": [
              "<IPython.core.display.HTML object>"
            ],
            "text/html": [
              "Run data is saved locally in <code>/content/wandb/run-20250221_135259-smhslcpb</code>"
            ]
          },
          "metadata": {}
        },
        {
          "output_type": "display_data",
          "data": {
            "text/plain": [
              "<IPython.core.display.HTML object>"
            ],
            "text/html": [
              "Syncing run <strong><a href='https://wandb.ai/da24s016-indian-institute-of-technology-madras/my-awesome-project/runs/smhslcpb' target=\"_blank\">treasured-cosmos-1</a></strong> to <a href='https://wandb.ai/da24s016-indian-institute-of-technology-madras/my-awesome-project' target=\"_blank\">Weights & Biases</a> (<a href='https://wandb.me/developer-guide' target=\"_blank\">docs</a>)<br>"
            ]
          },
          "metadata": {}
        },
        {
          "output_type": "display_data",
          "data": {
            "text/plain": [
              "<IPython.core.display.HTML object>"
            ],
            "text/html": [
              " View project at <a href='https://wandb.ai/da24s016-indian-institute-of-technology-madras/my-awesome-project' target=\"_blank\">https://wandb.ai/da24s016-indian-institute-of-technology-madras/my-awesome-project</a>"
            ]
          },
          "metadata": {}
        },
        {
          "output_type": "display_data",
          "data": {
            "text/plain": [
              "<IPython.core.display.HTML object>"
            ],
            "text/html": [
              " View run at <a href='https://wandb.ai/da24s016-indian-institute-of-technology-madras/my-awesome-project/runs/smhslcpb' target=\"_blank\">https://wandb.ai/da24s016-indian-institute-of-technology-madras/my-awesome-project/runs/smhslcpb</a>"
            ]
          },
          "metadata": {}
        },
        {
          "output_type": "display_data",
          "data": {
            "text/plain": [
              "<IPython.core.display.HTML object>"
            ],
            "text/html": []
          },
          "metadata": {}
        },
        {
          "output_type": "display_data",
          "data": {
            "text/plain": [
              "<IPython.core.display.HTML object>"
            ],
            "text/html": [
              "<br>    <style><br>        .wandb-row {<br>            display: flex;<br>            flex-direction: row;<br>            flex-wrap: wrap;<br>            justify-content: flex-start;<br>            width: 100%;<br>        }<br>        .wandb-col {<br>            display: flex;<br>            flex-direction: column;<br>            flex-basis: 100%;<br>            flex: 1;<br>            padding: 10px;<br>        }<br>    </style><br><div class=\"wandb-row\"><div class=\"wandb-col\"><h3>Run history:</h3><br/><table class=\"wandb\"><tr><td>acc</td><td>▂▁▄▇▇▇▇█</td></tr><tr><td>loss</td><td>██▆▂▄▁▃▃</td></tr></table><br/></div><div class=\"wandb-col\"><h3>Run summary:</h3><br/><table class=\"wandb\"><tr><td>acc</td><td>0.88677</td></tr><tr><td>loss</td><td>0.20002</td></tr></table><br/></div></div>"
            ]
          },
          "metadata": {}
        },
        {
          "output_type": "display_data",
          "data": {
            "text/plain": [
              "<IPython.core.display.HTML object>"
            ],
            "text/html": [
              " View run <strong style=\"color:#cdcd00\">treasured-cosmos-1</strong> at: <a href='https://wandb.ai/da24s016-indian-institute-of-technology-madras/my-awesome-project/runs/smhslcpb' target=\"_blank\">https://wandb.ai/da24s016-indian-institute-of-technology-madras/my-awesome-project/runs/smhslcpb</a><br> View project at: <a href='https://wandb.ai/da24s016-indian-institute-of-technology-madras/my-awesome-project' target=\"_blank\">https://wandb.ai/da24s016-indian-institute-of-technology-madras/my-awesome-project</a><br>Synced 5 W&B file(s), 0 media file(s), 0 artifact file(s) and 0 other file(s)"
            ]
          },
          "metadata": {}
        },
        {
          "output_type": "display_data",
          "data": {
            "text/plain": [
              "<IPython.core.display.HTML object>"
            ],
            "text/html": [
              "Find logs at: <code>./wandb/run-20250221_135259-smhslcpb/logs</code>"
            ]
          },
          "metadata": {}
        }
      ]
    },
    {
      "cell_type": "code",
      "source": [
        "(train_images.shape, train_labels.shape), (test_images.shape, test_labels.shape)"
      ],
      "metadata": {
        "colab": {
          "base_uri": "https://localhost:8080/"
        },
        "id": "M1N-ST3cyG9U",
        "outputId": "2ff57e36-a6f7-44bf-dea8-9ba062c079a1"
      },
      "execution_count": 11,
      "outputs": [
        {
          "output_type": "execute_result",
          "data": {
            "text/plain": [
              "(((60000, 28, 28), (60000,)), ((10000, 28, 28), (10000,)))"
            ]
          },
          "metadata": {},
          "execution_count": 11
        }
      ]
    },
    {
      "cell_type": "code",
      "source": [
        "train_images.shape[0]"
      ],
      "metadata": {
        "colab": {
          "base_uri": "https://localhost:8080/"
        },
        "id": "hISwGuAl7mbz",
        "outputId": "03c337ff-c6ef-4620-fa30-33cf1f053cf6"
      },
      "execution_count": 12,
      "outputs": [
        {
          "output_type": "execute_result",
          "data": {
            "text/plain": [
              "60000"
            ]
          },
          "metadata": {},
          "execution_count": 12
        }
      ]
    },
    {
      "cell_type": "code",
      "source": [
        "ix = np.random.randint(0, train_images.shape[0], (32,))\n",
        "ix"
      ],
      "metadata": {
        "colab": {
          "base_uri": "https://localhost:8080/"
        },
        "id": "sE4enIT-7D0F",
        "outputId": "0da30011-1e8b-433b-ca7c-4eb5fa449da8"
      },
      "execution_count": 15,
      "outputs": [
        {
          "output_type": "execute_result",
          "data": {
            "text/plain": [
              "array([25555, 55721, 26233, 48694, 29303, 42607, 25452, 25376, 33001,\n",
              "       42150, 45173, 44841, 54301, 40152, 55834, 25220, 41755, 32703,\n",
              "       24984, 24125,  4506, 30705, 40089,  9948, 35342, 12695, 10689,\n",
              "       50818, 20546, 26677, 49592, 34023])"
            ]
          },
          "metadata": {},
          "execution_count": 15
        }
      ]
    },
    {
      "cell_type": "code",
      "source": [
        "train_images[ix].shape"
      ],
      "metadata": {
        "colab": {
          "base_uri": "https://localhost:8080/"
        },
        "id": "bNuv9qjG7rsI",
        "outputId": "af379a1a-431e-4479-816b-bf68cae9a0e6"
      },
      "execution_count": 17,
      "outputs": [
        {
          "output_type": "execute_result",
          "data": {
            "text/plain": [
              "(32, 28, 28)"
            ]
          },
          "metadata": {},
          "execution_count": 17
        }
      ]
    },
    {
      "cell_type": "code",
      "source": [
        "def one_hot(y, num_classes=10):\n",
        "  return np.eye(num_classes)[y]"
      ],
      "metadata": {
        "id": "N391zkHoMjqy"
      },
      "execution_count": 71,
      "outputs": []
    },
    {
      "cell_type": "code",
      "source": [
        "# Defining the neural network\n",
        "class neural_network:\n",
        "    def __init__(self, input_size, output_size, hidden_size):\n",
        "        self.input_size = input_size\n",
        "        self.output_size = output_size\n",
        "        self.hidden_size = hidden_size\n",
        "\n",
        "        self.W1 = np.random.randn(self.input_size, self.hidden_size)\n",
        "        self.b1 = np.random.randn((self.hidden_size))\n",
        "        self.W2 = np.random.randn(self.hidden_size, self.hidden_size)\n",
        "        self.b2 = np.random.randn((self.hidden_size))\n",
        "        self.W3 = np.random.randn(self.hidden_size, self.output_size)\n",
        "        self.b3 = np.random.randn((self.output_size))\n",
        "\n",
        "        self.SdW1 = 0\n",
        "        self.Sdb1 = 0\n",
        "        self.SdW2 = 0\n",
        "        self.Sdb2 = 0\n",
        "        self.SdW3 = 0\n",
        "        self.Sdb3 = 0\n",
        "\n",
        "        self.a1 = 0\n",
        "        self.a2 = 0\n",
        "        self.z1 = 0\n",
        "        self.z2 = 0\n",
        "        self.z3 = 0\n",
        "\n",
        "        self.output = 0\n",
        "\n",
        "        self.eps = 1e-8\n",
        "\n",
        "    def sigmoid(self, s):\n",
        "        return 1/(1+np.exp(-s))\n",
        "\n",
        "    def __call__(self, X):\n",
        "        return self.forward(X)\n",
        "\n",
        "\n",
        "    def sigmoid_derivative(self, s):\n",
        "        return s * (1 - s)\n",
        "\n",
        "    def forward(self, X):\n",
        "        #B is batch size below\n",
        "        self.z1 = X@self.W1 + self.b1.  #(B, 784)@(784, 128) + (B, 128) #Broadcasting\n",
        "        self.a1 = self.sigmoid(self.z1)\n",
        "        self.z2 = self.a1@self.W2 + self.b2  #(B, 128)@(128, 128) + (B, 128) #Broadcasting\n",
        "        self.a2 = self.sigmoid(self.z2)\n",
        "        self.z3 = self.a2@self.W3 + self.b3 #(B, 128)@(128, 10) + (B, 10) #Broadcasting\n",
        "        self.output = self.sigmoid(self.z3)\n",
        "        return self.output\n",
        "\n",
        "    \"\"\"Implementing backpropagation\"\"\"\n",
        "    def backward(self, X, y_true):\n",
        "        #backward pass\n",
        "        m, n = X.shape\n",
        "        delta = self.forward(X) - one_hot(y_true)\n",
        "        delta2 = np.dot(delta, self.W3.T) * self.sigmoid_derivative(self.a2)\n",
        "        delta1 = np.dot(delta2, self.W2.T) * self.sigmoid_derivative(self.a1)\n",
        "\n",
        "        # Calculate the gradient\n",
        "        dW3 = np.dot(self.a2.T, delta)\n",
        "        db3 = np.sum(delta, axis=0, keepdims=True)\n",
        "        dW2 = np.dot(self.a1.T, delta2)\n",
        "        db2 = np.sum(delta2, axis=0)\n",
        "        dW1 = np.dot(X.T.reshape(n,m), delta1)\n",
        "        db1 = np.sum(delta1, axis=0)\n",
        "\n",
        "        return dW1, db1, dW2, db2, dW3, db3\n",
        "\n",
        "    \"\"\"Implementing Cross-Entropy Loss\"\"\"\n",
        "    def cross_entropy_loss(self, y_true, y_pred, epsilon=1e-12):\n",
        "\n",
        "        n = len(y_true)\n",
        "        log_y_pred = np.log(y_pred)\n",
        "        return np.mean(y_pred[range(n), y_true])\n",
        "\n",
        "\n",
        "\n",
        "\n",
        "    \"\"\"Implementing SGD optimizer to update the weights\"\"\"\n",
        "    def sgd_optimizer(self, X, y_true, lr, gamma, batch_size):\n",
        "        for i in range(0, X.shape[0], batch_size):\n",
        "            X_batch = X[i:i+batch_size]\n",
        "            y_batch = y_true[i:i+batch_size]\n",
        "            dW1, db1, dW2, db2, dW3, db3 = self.backward(X_batch, y_batch)\n",
        "            self.W1 = self.W1 - lr*dW1 - gamma*self.W1\n",
        "            self.b1 = self.b1 - lr*db1\n",
        "            self.W2 = self.W2 - lr*dW2 - gamma*self.W2\n",
        "            self.b2 = self.b2 - lr*db2\n",
        "            self.W3 = self.W3 - lr*dW3 - gamma*self.W3\n",
        "            self.b3 = self.b3 - lr*db3\n",
        "    \"\"\"Implementing RMSProp optimizer to update the weights\"\"\"\n",
        "    def rms_prop(self,X,y_true,learning_rate,decay_rate):\n",
        "        y_pred = self.forward(X)\n",
        "        dW1, db1, dW2, db2, dW3, db3 = self.backward(X, y_true)\n",
        "        self.SdW1 = decay_rate * self.SdW1 + (1 - decay_rate) * np.power(dW1, 2)\n",
        "        self.Sdb1 = decay_rate * self.Sdb1 + (1 - decay_rate) * np.power(db1, 2)\n",
        "        self.SdW2 = decay_rate * self.SdW2 + (1 - decay_rate) * np.power(dW2, 2)\n",
        "        self.Sdb2 = decay_rate * self.Sdb2 + (1 - decay_rate) * np.power(db2, 2)\n",
        "        self.SdW3 = decay_rate * self.SdW3 + (1 - decay_rate) * np.power(dW3, 2)\n",
        "        self.Sdb3 = decay_rate * self.Sdb3 + (1 - decay_rate) * np.power(db3, 2)\n",
        "\n",
        "        self.W1 -= learning_rate * dW1 / np.sqrt(self.SdW1 + self.eps)\n",
        "        self.b1 -= learning_rate * db1 / np.sqrt(self.Sdb1 + self.eps)\n",
        "        self.W2 -= learning_rate * dW2 / np.sqrt(self.SdW2 + self.eps)\n",
        "        self.b2 -= learning_rate * db2 / np.sqrt(self.Sdb2 + self.eps)\n",
        "        self.W3 -= learning_rate * dW3 / np.sqrt(self.SdW3 + self.eps)\n",
        "        self.b3 -= learning_rate * db3 / np.sqrt(self.Sdb3 + self.eps)\n",
        "\n"
      ],
      "metadata": {
        "id": "eHpkqsWA7zAD"
      },
      "execution_count": 60,
      "outputs": []
    },
    {
      "cell_type": "code",
      "source": [
        "28*28"
      ],
      "metadata": {
        "colab": {
          "base_uri": "https://localhost:8080/"
        },
        "id": "iCTjfEgK8-ES",
        "outputId": "19588cba-caf3-430c-b43d-5be416d4923a"
      },
      "execution_count": 21,
      "outputs": [
        {
          "output_type": "execute_result",
          "data": {
            "text/plain": [
              "784"
            ]
          },
          "metadata": {},
          "execution_count": 21
        }
      ]
    },
    {
      "cell_type": "code",
      "source": [
        "x.shape"
      ],
      "metadata": {
        "colab": {
          "base_uri": "https://localhost:8080/"
        },
        "id": "3VBfk2I2Xw9H",
        "outputId": "28e291a0-b04e-4b90-cd10-333aed6744cc"
      },
      "execution_count": 133,
      "outputs": [
        {
          "output_type": "execute_result",
          "data": {
            "text/plain": [
              "(32, 784)"
            ]
          },
          "metadata": {},
          "execution_count": 133
        }
      ]
    },
    {
      "cell_type": "code",
      "source": [
        "y = train_labels[ix]\n",
        "y"
      ],
      "metadata": {
        "colab": {
          "base_uri": "https://localhost:8080/"
        },
        "id": "jMESTh16L-RS",
        "outputId": "08c93e61-df25-49b5-b2ed-779c2dcb549f"
      },
      "execution_count": 64,
      "outputs": [
        {
          "output_type": "execute_result",
          "data": {
            "text/plain": [
              "array([5, 9, 2, 5, 0, 9, 5, 7, 1, 3, 0, 2, 4, 0, 2, 8, 9, 3, 6, 0, 6, 7,\n",
              "       8, 3, 3, 3, 9, 1, 2, 8, 0, 0], dtype=uint8)"
            ]
          },
          "metadata": {},
          "execution_count": 64
        }
      ]
    },
    {
      "cell_type": "code",
      "source": [],
      "metadata": {
        "colab": {
          "base_uri": "https://localhost:8080/"
        },
        "id": "fkaF_Y-AMDbv",
        "outputId": "a59e2982-4085-451e-f30d-536f0a6b8489"
      },
      "execution_count": 70,
      "outputs": [
        {
          "output_type": "execute_result",
          "data": {
            "text/plain": [
              "(array([[0., 0., 0., 0., 0., 1., 0., 0., 0., 0.],\n",
              "        [0., 0., 0., 0., 0., 0., 0., 0., 0., 1.],\n",
              "        [0., 0., 1., 0., 0., 0., 0., 0., 0., 0.],\n",
              "        [0., 0., 0., 0., 0., 1., 0., 0., 0., 0.],\n",
              "        [1., 0., 0., 0., 0., 0., 0., 0., 0., 0.],\n",
              "        [0., 0., 0., 0., 0., 0., 0., 0., 0., 1.],\n",
              "        [0., 0., 0., 0., 0., 1., 0., 0., 0., 0.],\n",
              "        [0., 0., 0., 0., 0., 0., 0., 1., 0., 0.],\n",
              "        [0., 1., 0., 0., 0., 0., 0., 0., 0., 0.],\n",
              "        [0., 0., 0., 1., 0., 0., 0., 0., 0., 0.],\n",
              "        [1., 0., 0., 0., 0., 0., 0., 0., 0., 0.],\n",
              "        [0., 0., 1., 0., 0., 0., 0., 0., 0., 0.],\n",
              "        [0., 0., 0., 0., 1., 0., 0., 0., 0., 0.],\n",
              "        [1., 0., 0., 0., 0., 0., 0., 0., 0., 0.],\n",
              "        [0., 0., 1., 0., 0., 0., 0., 0., 0., 0.],\n",
              "        [0., 0., 0., 0., 0., 0., 0., 0., 1., 0.],\n",
              "        [0., 0., 0., 0., 0., 0., 0., 0., 0., 1.],\n",
              "        [0., 0., 0., 1., 0., 0., 0., 0., 0., 0.],\n",
              "        [0., 0., 0., 0., 0., 0., 1., 0., 0., 0.],\n",
              "        [1., 0., 0., 0., 0., 0., 0., 0., 0., 0.],\n",
              "        [0., 0., 0., 0., 0., 0., 1., 0., 0., 0.],\n",
              "        [0., 0., 0., 0., 0., 0., 0., 1., 0., 0.],\n",
              "        [0., 0., 0., 0., 0., 0., 0., 0., 1., 0.],\n",
              "        [0., 0., 0., 1., 0., 0., 0., 0., 0., 0.],\n",
              "        [0., 0., 0., 1., 0., 0., 0., 0., 0., 0.],\n",
              "        [0., 0., 0., 1., 0., 0., 0., 0., 0., 0.],\n",
              "        [0., 0., 0., 0., 0., 0., 0., 0., 0., 1.],\n",
              "        [0., 1., 0., 0., 0., 0., 0., 0., 0., 0.],\n",
              "        [0., 0., 1., 0., 0., 0., 0., 0., 0., 0.],\n",
              "        [0., 0., 0., 0., 0., 0., 0., 0., 1., 0.],\n",
              "        [1., 0., 0., 0., 0., 0., 0., 0., 0., 0.],\n",
              "        [1., 0., 0., 0., 0., 0., 0., 0., 0., 0.]]),\n",
              " array([5, 9, 2, 5, 0, 9, 5, 7, 1, 3, 0, 2, 4, 0, 2, 8, 9, 3, 6, 0, 6, 7,\n",
              "        8, 3, 3, 3, 9, 1, 2, 8, 0, 0], dtype=uint8))"
            ]
          },
          "metadata": {},
          "execution_count": 70
        }
      ]
    },
    {
      "cell_type": "code",
      "source": [
        "x = train_images[ix]"
      ],
      "metadata": {
        "id": "o2uqQ0FT9R4D"
      },
      "execution_count": 25,
      "outputs": []
    },
    {
      "cell_type": "code",
      "source": [
        "x = x.reshape(x.shape[0], -1)"
      ],
      "metadata": {
        "id": "QkgOIBnd-Dh7"
      },
      "execution_count": 31,
      "outputs": []
    },
    {
      "cell_type": "code",
      "source": [
        "W1 = np.random.randn(784, 128)\n",
        "b1 = np.random.randn(128)"
      ],
      "metadata": {
        "id": "Li4vmctC9P5x"
      },
      "execution_count": 24,
      "outputs": []
    },
    {
      "cell_type": "code",
      "source": [
        "W1.shape, b1.shape, x.shape"
      ],
      "metadata": {
        "colab": {
          "base_uri": "https://localhost:8080/"
        },
        "id": "1eL3Lyz1-pct",
        "outputId": "8acb67ca-b2a0-47b9-9eaf-4153402e92ca"
      },
      "execution_count": 32,
      "outputs": [
        {
          "output_type": "execute_result",
          "data": {
            "text/plain": [
              "((784, 128), (128,), (32, 784))"
            ]
          },
          "metadata": {},
          "execution_count": 32
        }
      ]
    },
    {
      "cell_type": "code",
      "source": [
        "(x@W1 + b1).shape"
      ],
      "metadata": {
        "colab": {
          "base_uri": "https://localhost:8080/"
        },
        "id": "OqGPHyS9-wDG",
        "outputId": "6c217e9c-b0a3-4a66-872e-4ab571018f44"
      },
      "execution_count": 34,
      "outputs": [
        {
          "output_type": "execute_result",
          "data": {
            "text/plain": [
              "(32, 128)"
            ]
          },
          "metadata": {},
          "execution_count": 34
        }
      ]
    },
    {
      "cell_type": "code",
      "source": [
        "nn = neural_network(input_size = 784, output_size = 10, hidden_size = 128)\n"
      ],
      "metadata": {
        "id": "9nJdv_kl831m"
      },
      "execution_count": 61,
      "outputs": []
    },
    {
      "cell_type": "code",
      "source": [
        "nn(x).shape"
      ],
      "metadata": {
        "colab": {
          "base_uri": "https://localhost:8080/"
        },
        "id": "vp7Hmb4A_WoS",
        "outputId": "5e3a4f54-39e5-4801-b771-c96e8461e32f"
      },
      "execution_count": 62,
      "outputs": [
        {
          "output_type": "stream",
          "name": "stderr",
          "text": [
            "<ipython-input-60-00db751ea613>:33: RuntimeWarning: overflow encountered in exp\n",
            "  return 1/(1+np.exp(-s))\n"
          ]
        },
        {
          "output_type": "execute_result",
          "data": {
            "text/plain": [
              "(32, 10)"
            ]
          },
          "metadata": {},
          "execution_count": 62
        }
      ]
    },
    {
      "cell_type": "code",
      "source": [
        "\n",
        "    # def forward(self, X):\n",
        "    #     self.z1 = X@self.W1 + self.b1\n",
        "    #     self.a1 = self.sigmoid(self.z1)\n",
        "    #     self.z2 = self.a1@self.W2 + self.b2\n",
        "    #     self.a2 = self.sigmoid(self.z2)\n",
        "    #     self.z3 = self.a2@self.W3 + self.b3\n",
        "    #     self.output = self.sigmoid(self.z3)\n",
        "\n",
        "    #     return self.output\n",
        "\n",
        "\n",
        "    # def sigmoid_derivative(self, s):\n",
        "    #     return s * (1 - s)\n",
        "\n",
        "    # \"\"\"Implementing backpropagation\"\"\"\n",
        "    # def backward(self, X, y_true):\n",
        "    #     #backward pass\n",
        "    #     m,n = X.shape\n",
        "    #     delta = self.forward(X) - one_hot(y_true)\n",
        "    #     delta2 = np.dot(delta, self.W3.T) * self.sigmoid_derivative(self.a2)\n",
        "    #     delta1 = np.dot(delta2, self.W2.T) * self.sigmoid_derivative(self.a1)\n",
        "\n",
        "    #     # Calculate the gradient\n",
        "    #     dW3 = np.dot(self.a2.T, delta)\n",
        "    #     db3 = np.sum(delta, axis=0, keepdims=True)\n",
        "    #     dW2 = np.dot(self.a1.T, delta2)\n",
        "    #     db2 = np.sum(delta2, axis=0)\n",
        "    #     dW1 = np.dot(X.T.reshape(n,m), delta1)\n",
        "    #     db1 = np.sum(delta1, axis=0)\n",
        "\n",
        "    #     return dW1, db1, dW2, db2, dW3, db3"
      ],
      "metadata": {
        "id": "QUQ0BMw9_Xv1"
      },
      "execution_count": 87,
      "outputs": []
    },
    {
      "cell_type": "code",
      "source": [
        "W1 = np.random.randn(784, 128)\n",
        "b1 = np.random.randn(128)\n",
        "W2 = np.random.randn(128, 128)\n",
        "b2 = np.random.randn(128)\n",
        "W3 = np.random.randn(128, 10)\n",
        "b3 = np.random.randn(10)"
      ],
      "metadata": {
        "id": "aV4-D7GxBZiS"
      },
      "execution_count": 98,
      "outputs": []
    },
    {
      "cell_type": "code",
      "source": [
        "layer1 = sigmoid(x@W1+b1)\n",
        "layer2 = sigmoid(layer1@W2+b2)\n",
        "layer3 = sigmoid(layer2@W3+b3)\n",
        "log_layer3 = np.log(layer3)\n",
        "loss = np.mean(log_layer3[range(32), y])\n",
        "loss"
      ],
      "metadata": {
        "colab": {
          "base_uri": "https://localhost:8080/"
        },
        "id": "hd0-yJjwM_EF",
        "outputId": "fb4db0ac-99f2-4805-9691-fc955f3a9a85"
      },
      "execution_count": 129,
      "outputs": [
        {
          "output_type": "stream",
          "name": "stderr",
          "text": [
            "<ipython-input-97-b9888cdb4a2b>:2: RuntimeWarning: overflow encountered in exp\n",
            "  return 1/(1+np.exp(-s))\n"
          ]
        },
        {
          "output_type": "execute_result",
          "data": {
            "text/plain": [
              "-4.599040541362687"
            ]
          },
          "metadata": {},
          "execution_count": 129
        }
      ]
    },
    {
      "cell_type": "code",
      "source": [
        "layer3.shape, layer2.shape, layer1.shape"
      ],
      "metadata": {
        "colab": {
          "base_uri": "https://localhost:8080/"
        },
        "id": "NFvxiSrAW4G4",
        "outputId": "d60a3d95-da0e-4889-cb8c-0a0a57e80ec0"
      },
      "execution_count": 132,
      "outputs": [
        {
          "output_type": "execute_result",
          "data": {
            "text/plain": [
              "((32, 10), (32, 128), (32, 128))"
            ]
          },
          "metadata": {},
          "execution_count": 132
        }
      ]
    },
    {
      "cell_type": "code",
      "source": [
        "#backward pass\n",
        "dloss = 1\n",
        "\n",
        "dlog_layer3 = np.zeros_like(log_layer3)\n",
        "dlog_layer3[range(32), y] = -1/32\n",
        "dlayer3 = (1/layer3)*dlog_layer3\n",
        "dlayer2 = dlayer3@W3.T*sigmoid_derivative(layer2)\n",
        "dlayer1 = dlayer2@W2.T*sigmoid_derivative(layer1)\n",
        "dW1 = x.T@dlayer1\n",
        "dW2 = layer1.T@dlayer2\n",
        "dW3 = layer2.T@dlayer3\n",
        "db1 = np.sum(dlayer1, axis=0)\n",
        "db2 = np.sum(dlayer2, axis=0)\n",
        "db3 = np.sum(dlayer3, axis=0)\n"
      ],
      "metadata": {
        "id": "Y25YPQavU8xY"
      },
      "execution_count": 131,
      "outputs": []
    },
    {
      "cell_type": "code",
      "source": [
        "def sigmoid(s):\n",
        "  return 1/(1+np.exp(-s))\n",
        "\n",
        "def sigmoid_derivative(s):\n",
        "  return s * (1 - s)"
      ],
      "metadata": {
        "id": "YjxLmMTGQGDg"
      },
      "execution_count": 97,
      "outputs": []
    },
    {
      "cell_type": "code",
      "source": [
        "layer3.shape, one_hot(y).shape"
      ],
      "metadata": {
        "colab": {
          "base_uri": "https://localhost:8080/"
        },
        "id": "0s3jPuPlNlKs",
        "outputId": "cc85256e-8e53-4fa0-d8af-d78975f28fda"
      },
      "execution_count": 101,
      "outputs": [
        {
          "output_type": "execute_result",
          "data": {
            "text/plain": [
              "((32, 10), (32, 10))"
            ]
          },
          "metadata": {},
          "execution_count": 101
        }
      ]
    },
    {
      "cell_type": "code",
      "source": [
        "layer3[range(32), y]"
      ],
      "metadata": {
        "colab": {
          "base_uri": "https://localhost:8080/"
        },
        "id": "-DCPDjb7NHhS",
        "outputId": "e932db41-17a2-41ad-e933-e77da927335c"
      },
      "execution_count": 110,
      "outputs": [
        {
          "output_type": "execute_result",
          "data": {
            "text/plain": [
              "array([3.44173950e-08, 5.01599893e-04, 3.03909516e-07, 1.54155767e-08,\n",
              "       9.59568188e-01, 1.24264990e-02, 9.58859224e-06, 7.27977121e-01,\n",
              "       9.97435299e-01, 9.76407192e-01, 5.96406075e-01, 1.55512179e-05,\n",
              "       1.61089121e-10, 7.63385539e-01, 7.19552793e-03, 4.43561181e-01,\n",
              "       2.08774439e-01, 2.44494539e-01, 2.17139740e-04, 9.99940407e-01,\n",
              "       1.68440364e-01, 9.88573531e-01, 9.93667802e-01, 1.67240605e-01,\n",
              "       9.56243992e-01, 9.76800572e-01, 8.29457183e-03, 9.99995542e-01,\n",
              "       1.37434297e-05, 6.92373607e-01, 2.32254433e-01, 9.70815557e-01])"
            ]
          },
          "metadata": {},
          "execution_count": 110
        }
      ]
    },
    {
      "cell_type": "code",
      "source": [
        "one_hot(y)[0]"
      ],
      "metadata": {
        "colab": {
          "base_uri": "https://localhost:8080/"
        },
        "id": "_PvRkBSmRPP2",
        "outputId": "86df0039-5774-4c9b-a600-56d40fbc988a"
      },
      "execution_count": 113,
      "outputs": [
        {
          "output_type": "execute_result",
          "data": {
            "text/plain": [
              "array([0., 0., 0., 0., 0., 1., 0., 0., 0., 0.])"
            ]
          },
          "metadata": {},
          "execution_count": 113
        }
      ]
    },
    {
      "cell_type": "code",
      "source": [
        "loss = 0\n",
        "for i in range(32):\n",
        "  loss += one_hot(y)[i]*np.log(layer3[i])"
      ],
      "metadata": {
        "id": "LNQcmiruNpHL"
      },
      "execution_count": 116,
      "outputs": []
    },
    {
      "cell_type": "code",
      "source": [],
      "metadata": {
        "id": "Hd3aL8bnTUmx"
      },
      "execution_count": null,
      "outputs": []
    },
    {
      "cell_type": "code",
      "source": [
        "np.sum(loss)/32"
      ],
      "metadata": {
        "colab": {
          "base_uri": "https://localhost:8080/"
        },
        "id": "STAZKKmYP9f9",
        "outputId": "d71c6923-840b-4181-8258-43a89ade16b1"
      },
      "execution_count": 128,
      "outputs": [
        {
          "output_type": "execute_result",
          "data": {
            "text/plain": [
              "-4.599040541362687"
            ]
          },
          "metadata": {},
          "execution_count": 128
        }
      ]
    },
    {
      "cell_type": "code",
      "source": [
        "log_layer3 = np.log(layer3)\n",
        "np.sum(log_layer3[range(32), y])"
      ],
      "metadata": {
        "colab": {
          "base_uri": "https://localhost:8080/"
        },
        "id": "PbH81R7nSot9",
        "outputId": "667b4bde-cba3-4c63-f039-d010d8577532"
      },
      "execution_count": 123,
      "outputs": [
        {
          "output_type": "execute_result",
          "data": {
            "text/plain": [
              "-4.599040541362687"
            ]
          },
          "metadata": {},
          "execution_count": 123
        }
      ]
    },
    {
      "cell_type": "code",
      "source": [
        "log_layer3[range(32), y].shape"
      ],
      "metadata": {
        "colab": {
          "base_uri": "https://localhost:8080/"
        },
        "id": "EUplwo_ZS5ZT",
        "outputId": "2fac67bc-1807-43ee-9830-27122f5870ca"
      },
      "execution_count": 127,
      "outputs": [
        {
          "output_type": "execute_result",
          "data": {
            "text/plain": [
              "(32,)"
            ]
          },
          "metadata": {},
          "execution_count": 127
        }
      ]
    },
    {
      "cell_type": "code",
      "source": [
        "dlog_layer3 = np.zeros_like(log_layer3)\n",
        "dlog_layer3[range(32), y] = -1/32"
      ],
      "metadata": {
        "id": "A2CuWuRITSLt"
      },
      "execution_count": null,
      "outputs": []
    }
  ]
}